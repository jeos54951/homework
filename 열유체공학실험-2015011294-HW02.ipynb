{
  "nbformat": 4,
  "nbformat_minor": 0,
  "metadata": {
    "colab": {
      "name": "Untitled2.ipynb",
      "version": "0.3.2",
      "provenance": [],
      "include_colab_link": true
    },
    "kernelspec": {
      "name": "python3",
      "display_name": "Python 3"
    }
  },
  "cells": [
    {
      "cell_type": "markdown",
      "metadata": {
        "id": "view-in-github",
        "colab_type": "text"
      },
      "source": [
        "<a href=\"https://colab.research.google.com/github/jeos54951/homework/blob/master/%EC%97%B4%EC%9C%A0%EC%B2%B4%EA%B3%B5%ED%95%99%EC%8B%A4%ED%97%98-2015011294-HW02.ipynb\" target=\"_parent\"><img src=\"https://colab.research.google.com/assets/colab-badge.svg\" alt=\"Open In Colab\"/></a>"
      ]
    },
    {
      "cell_type": "code",
      "metadata": {
        "id": "XP2Gva0udfe1",
        "colab_type": "code",
        "colab": {
          "base_uri": "https://localhost:8080/",
          "height": 210
        },
        "outputId": "e07169a9-24b0-413a-f1cd-55f1d338356c"
      },
      "source": [
        "def function(a):\n",
        "  for b in range(1,10):\n",
        "    print(a,\"x\",b,\"=\",a*b,\"입니다.\")\n",
        "\n",
        "  return a\n",
        "      \n",
        "\n",
        "a= input(\"input a:\")\n",
        "function(int(a))\n"
      ],
      "execution_count": 2,
      "outputs": [
        {
          "output_type": "stream",
          "text": [
            "input a:3\n",
            "3 x 1 = 3 입니다.\n",
            "3 x 2 = 6 입니다.\n",
            "3 x 3 = 9 입니다.\n",
            "3 x 4 = 12 입니다.\n",
            "3 x 5 = 15 입니다.\n",
            "3 x 6 = 18 입니다.\n",
            "3 x 7 = 21 입니다.\n",
            "3 x 8 = 24 입니다.\n",
            "3 x 9 = 27 입니다.\n"
          ],
          "name": "stdout"
        },
        {
          "output_type": "execute_result",
          "data": {
            "text/plain": [
              "3"
            ]
          },
          "metadata": {
            "tags": []
          },
          "execution_count": 2
        }
      ]
    }
  ]
}